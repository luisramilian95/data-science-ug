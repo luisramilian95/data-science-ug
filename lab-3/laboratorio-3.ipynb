{
 "cells": [
  {
   "attachments": {},
   "cell_type": "markdown",
   "metadata": {},
   "source": [
    "# Parte 1: Numpy:\n",
    "Para los ejercicios siguiente genere el código que considere para resolver el problema que se le plantea."
   ]
  },
  {
   "attachments": {},
   "cell_type": "markdown",
   "metadata": {},
   "source": [
    "1. ¿Cuál es el tamaño en bytes de un array de 1000 elementos de tipo booleano?"
   ]
  },
  {
   "cell_type": "code",
   "execution_count": 18,
   "metadata": {},
   "outputs": [
    {
     "name": "stdout",
     "output_type": "stream",
     "text": [
      "El tamaño si todos son True 28000\n",
      "El tamaño si todos son False 24000\n"
     ]
    }
   ],
   "source": [
    "import sys\n",
    "size_of_boolean = sys.getsizeof(True) * 1000\n",
    "print(\"El tamaño si todos son True {}\".format(size_of_boolean))\n",
    "size_of_boolean = sys.getsizeof(False) * 1000\n",
    "print(\"El tamaño si todos son False {}\".format(size_of_boolean)) \n"
   ]
  },
  {
   "attachments": {},
   "cell_type": "markdown",
   "metadata": {},
   "source": [
    "\n",
    "2. Cree un array cuyos elementos sean los enteros pares en [1,100] y en orden decreciente. Muestre los 10 últimos por pantalla."
   ]
  },
  {
   "cell_type": "code",
   "execution_count": 23,
   "metadata": {},
   "outputs": [
    {
     "name": "stdout",
     "output_type": "stream",
     "text": [
      "100\n",
      "98\n",
      "96\n",
      "94\n",
      "92\n",
      "90\n",
      "88\n",
      "86\n",
      "84\n",
      "82\n"
     ]
    }
   ],
   "source": [
    "list_of_evens = range(100, 1, -2)\n",
    "\n",
    "for number in range(10) :\n",
    "    print(list_of_evens[number])"
   ]
  },
  {
   "attachments": {},
   "cell_type": "markdown",
   "metadata": {},
   "source": [
    "3. Dado el array\n",
    "```\n",
    "2 4 5 6 \n",
    "0 3 7 4 \n",
    "8 8 5 2 \n",
    "1 5 6 1\n",
    "```\n",
    "\n",
    "- Seleccione con una instrucción el subarray de elementos \n",
    "```\n",
    "0 3 7 4\n",
    "```\n",
    "\n",
    "- Después, seleccione el subarray de elementos\n",
    "\n",
    "```\n",
    "2 5 \n",
    "8 5\n",
    "```"
   ]
  },
  {
   "cell_type": "code",
   "execution_count": 59,
   "metadata": {},
   "outputs": [
    {
     "name": "stdout",
     "output_type": "stream",
     "text": [
      "subarray 0 3 7 4: [0, 3, 7, 4]\n",
      "subarray :\n",
      " 2 5 \n",
      " 8 5 \n",
      " [[2, 5], [8, 5]]\n"
     ]
    }
   ],
   "source": [
    "array = [[2, 4, 5, 6],[0, 3, 7, 4],[8, 8, 5, 2],[1, 5, 6, 1]]\n",
    "print(f\"subarray 0 3 7 4: {array[1]}\")\n",
    "\n",
    "\n",
    "sub_array = []\n",
    "\n",
    "for x in range(0, len(array), 2):\n",
    "    row = []\n",
    "    for y in range(0, len(array[x]), 2):\n",
    "        row.append(array[x][y])\n",
    "    sub_array.append(row)\n",
    "\n",
    "print(f\"subarray :\\n 2 5 \\n 8 5 \\n {sub_array}\")\n"
   ]
  },
  {
   "attachments": {},
   "cell_type": "markdown",
   "metadata": {},
   "source": [
    "4. Dados los arrays a = [1, 4, 2, 7] y b = [1, 3, 2, 9], obtenga la media aritmética de la diferencia (a-b)."
   ]
  },
  {
   "cell_type": "code",
   "execution_count": 63,
   "metadata": {},
   "outputs": [
    {
     "name": "stdout",
     "output_type": "stream",
     "text": [
      "Media: -0.25\n"
     ]
    }
   ],
   "source": [
    "a = [1, 4, 2, 7]\n",
    "b = [1, 3, 2, 9]\n",
    "\n",
    "sum_ = 0\n",
    "for x in range(len(a)) :\n",
    "    diff = a[x] - b[x]\n",
    "    sum_ += diff\n",
    "\n",
    "print(f\"Media: {sum_ / len(a)}\")"
   ]
  },
  {
   "attachments": {},
   "cell_type": "markdown",
   "metadata": {},
   "source": [
    "5. Tengo valores de cordenadas (x, y) en las columnas del array\n",
    "\n",
    "```\n",
    "1.33 4.5\n",
    "30.0 10.7\n",
    "70.2 0.5\n",
    "```\n",
    "\n",
    "- Agregue a este array las coordenadas (37.1, -3.6).\n",
    "\n",
    "- Muestre en pantalla las dimensiones del nuevo array."
   ]
  },
  {
   "cell_type": "code",
   "execution_count": 74,
   "metadata": {},
   "outputs": [
    {
     "name": "stdout",
     "output_type": "stream",
     "text": [
      "[(1.33, 4.5), (30.0, 10.7), (70.2, 0.5)]\n",
      "[(1.33, 4.5), (30.0, 10.7), (70.2, 0.5), (37.1, -3.6)]\n"
     ]
    }
   ],
   "source": [
    "points = [(1.33, 4.5),(30.0, 10.7), (70.2, 0.5)]\n",
    "print(points)\n",
    "\n",
    "new_point = (37.1, -3.6)\n",
    "points.append(new_point)\n",
    "\n",
    "print(points)"
   ]
  },
  {
   "attachments": {},
   "cell_type": "markdown",
   "metadata": {},
   "source": [
    "6. Copie el array del ejercicio anterior. Traspóngalo.\n",
    " \n",
    " - Agregue ahora dos nuevos pares de coordenadas: (10.8, 3.0) y (35.8, 12.0)."
   ]
  },
  {
   "cell_type": "code",
   "execution_count": 76,
   "metadata": {},
   "outputs": [
    {
     "name": "stdout",
     "output_type": "stream",
     "text": [
      "[[ 1.33 30.   70.2  37.1  10.8  35.8  10.8  35.8 ]\n",
      " [ 4.5  10.7   0.5  -3.6   3.   12.    3.   12.  ]]\n"
     ]
    }
   ],
   "source": [
    "import numpy as np \n",
    "\n",
    "points.append((10.8, 3.0))\n",
    "points.append((35.8, 12.0))\n",
    "\n",
    "T = np.transpose(points)\n",
    "print(T)\n"
   ]
  },
  {
   "attachments": {},
   "cell_type": "markdown",
   "metadata": {},
   "source": [
    "--- \n",
    "\n",
    "## Parte 2: Exploración y Minería de Datos:\n",
    "Con el dataset nucleospoblacion.csv adjunto al laboratorio, luego responda las siguientes preguntas usando pandas y matplotlib."
   ]
  },
  {
   "attachments": {},
   "cell_type": "markdown",
   "metadata": {},
   "source": [
    "1. ¿Cuántos Municipios tienen más de 100000 habitantes?."
   ]
  },
  {
   "cell_type": "code",
   "execution_count": 118,
   "metadata": {},
   "outputs": [
    {
     "data": {
      "text/plain": [
       "9      Las Palmas de Gran Canaria\n",
       "16                          Telde\n",
       "28     San Cristóbal de La Laguna\n",
       "40         Santa Cruz de Tenerife\n",
       "42                        Badajoz\n",
       "                  ...            \n",
       "683      Santa Coloma de Gramenet\n",
       "689                      Terrassa\n",
       "725                        Lleida\n",
       "735                          Reus\n",
       "737                     Tarragona\n",
       "Name: Municipio, Length: 62, dtype: object"
      ]
     },
     "execution_count": 118,
     "metadata": {},
     "output_type": "execute_result"
    }
   ],
   "source": [
    "import numpy as np\n",
    "import pandas as pd\n",
    "import matplotlib.pyplot as plt\n",
    "\n",
    "data = pd.read_csv(\"./NucleosPoblacion.csv\")\n",
    "municipalities_with_more_100000 = data[data['Poblacion'] > 100000] \n",
    "\n",
    "municipalities_with_more_100000['Municipio']"
   ]
  },
  {
   "attachments": {},
   "cell_type": "markdown",
   "metadata": {},
   "source": [
    "2. Realice una gráfica de barras sobre la población de cada ciudad, ordenela de menor a mayor y responda:"
   ]
  },
  {
   "cell_type": "code",
   "execution_count": 144,
   "metadata": {},
   "outputs": [
    {
     "data": {
      "image/png": "[encoded data removed]",
      "text/plain": [
       "<Figure size 1000x800 with 10 Axes>"
      ]
     },
     "metadata": {},
     "output_type": "display_data"
    }
   ],
   "source": [
    "data_sorted = data.sort_values(by='Poblacion', ascending=True)\n",
    "\n",
    "ax = data_sorted.head(10).plot.hist(column=[\"Poblacion\"], by=\"Municipio\", figsize=(10, 8))"
   ]
  },
  {
   "attachments": {},
   "cell_type": "markdown",
   "metadata": {},
   "source": [
    "\n",
    "-  ¿Cuál es la segunda ciudad más poblada?\n"
   ]
  },
  {
   "cell_type": "code",
   "execution_count": 148,
   "metadata": {},
   "outputs": [
    {
     "data": {
      "text/plain": [
       "'Barcelona'"
      ]
     },
     "execution_count": 148,
     "metadata": {},
     "output_type": "execute_result"
    }
   ],
   "source": [
    "data_sorted = data.sort_values(by='Poblacion', ascending=False)\n",
    "data_sorted.iloc[1]['Municipio']"
   ]
  },
  {
   "attachments": {},
   "cell_type": "markdown",
   "metadata": {},
   "source": [
    "¿Qué posición ocupa Granada en el ranking de las ciudades más pobladas?"
   ]
  },
  {
   "cell_type": "code",
   "execution_count": 151,
   "metadata": {},
   "outputs": [
    {
     "data": {
      "text/html": [
       "<div>\n",
       "<style scoped>\n",
       "    .dataframe tbody tr th:only-of-type {\n",
       "        vertical-align: middle;\n",
       "    }\n",
       "\n",
       "    .dataframe tbody tr th {\n",
       "        vertical-align: top;\n",
       "    }\n",
       "\n",
       "    .dataframe thead th {\n",
       "        text-align: right;\n",
       "    }\n",
       "</style>\n",
       "<table border=\"1\" class=\"dataframe\">\n",
       "  <thead>\n",
       "    <tr style=\"text-align: right;\">\n",
       "      <th></th>\n",
       "      <th>FID</th>\n",
       "      <th>OBJECTID</th>\n",
       "      <th>Texto</th>\n",
       "      <th>Poblacion</th>\n",
       "      <th>CodMun</th>\n",
       "      <th>Municipio</th>\n",
       "      <th>CodProvin</th>\n",
       "      <th>Provincia</th>\n",
       "      <th>X</th>\n",
       "      <th>Y</th>\n",
       "    </tr>\n",
       "  </thead>\n",
       "  <tbody>\n",
       "    <tr>\n",
       "      <th>272</th>\n",
       "      <td>272</td>\n",
       "      <td>273</td>\n",
       "      <td>Granada</td>\n",
       "      <td>239154.0</td>\n",
       "      <td>18087</td>\n",
       "      <td>Granada</td>\n",
       "      <td>18</td>\n",
       "      <td>Granada</td>\n",
       "      <td>-3.600019</td>\n",
       "      <td>37.176419</td>\n",
       "    </tr>\n",
       "  </tbody>\n",
       "</table>\n",
       "</div>"
      ],
      "text/plain": [
       "     FID  OBJECTID    Texto  Poblacion  CodMun Municipio  CodProvin Provincia  \\\n",
       "272  272       273  Granada   239154.0   18087   Granada         18   Granada   \n",
       "\n",
       "            X          Y  \n",
       "272 -3.600019  37.176419  "
      ]
     },
     "execution_count": 151,
     "metadata": {},
     "output_type": "execute_result"
    }
   ],
   "source": [
    "granada_data = data_sorted[data_sorted['Municipio'] == 'Granada']\n",
    "granada_data"
   ]
  },
  {
   "attachments": {},
   "cell_type": "markdown",
   "metadata": {},
   "source": [
    "3. ¿Cuántos municipios de Extremadura tienen más de 5000 habitantes?."
   ]
  },
  {
   "cell_type": "code",
   "execution_count": 152,
   "metadata": {},
   "outputs": [
    {
     "name": "stdout",
     "output_type": "stream",
     "text": [
      "No data with Extremadura\n"
     ]
    }
   ],
   "source": [
    "extremadura_data = data[data['Provincia'] == 'Extremadura']\n",
    "extremadura_data\n",
    "\n",
    "print(\"No data with Extremadura\")"
   ]
  },
  {
   "attachments": {},
   "cell_type": "markdown",
   "metadata": {},
   "source": [
    "4. ¿Cuál es el municipio situado más al Norte? (Usar el valor de la coordenada \"Y\" que representa la latitud en grados). Proporcione también la provincia a la que pertenece y su población."
   ]
  },
  {
   "cell_type": "code",
   "execution_count": 164,
   "metadata": {},
   "outputs": [
    {
     "name": "stdout",
     "output_type": "stream",
     "text": [
      "Municipio: Viveiro\n",
      "Provincia: Lugo\n",
      "Poblacion: 16211.0\n"
     ]
    }
   ],
   "source": [
    "data_sorted_by_Y = data.sort_values(by='Y', ascending=False)\n",
    "head_Y = data_sorted_by_Y.iloc[0]\n",
    "\n",
    "print(f\"Municipio: {head_Y['Municipio']}\")\n",
    "print(f\"Provincia: {head_Y['Provincia']}\")\n",
    "print(f\"Poblacion: {head_Y['Poblacion']}\")\n"
   ]
  },
  {
   "attachments": {},
   "cell_type": "markdown",
   "metadata": {},
   "source": [
    "5. Obtenga la media, mediana, desviación estándar, valor máximo y valor mínimo de la población de los municipios de la provincia de Granada."
   ]
  },
  {
   "cell_type": "code",
   "execution_count": 175,
   "metadata": {},
   "outputs": [
    {
     "name": "stdout",
     "output_type": "stream",
     "text": [
      "Media: 30217.85\n",
      "Mediana 17526.0\n",
      "Desviacion Estandar 50355.49171459276\n",
      "Maximo 239154.0\n",
      "Minimo 10386.0\n"
     ]
    }
   ],
   "source": [
    "granada_data = data[data['Provincia'] == 'Granada']\n",
    "granada_people = granada_data['Poblacion']\n",
    "print(f\"Media: {granada_people.mean()}\")\n",
    "print(f\"Mediana {granada_people.median()}\")\n",
    "print(f\"Desviacion Estandar {granada_people.std()}\")\n",
    "print(f\"Maximo {granada_people.max()}\")\n",
    "print(f\"Minimo {granada_people.min()}\")"
   ]
  },
  {
   "attachments": {},
   "cell_type": "markdown",
   "metadata": {},
   "source": [
    "\n",
    "7. Seleccione al azar cincuenta municipios diferentes de entre los diponibles en el archivo. Asegúrese de que no se repitan. ¿Luego calcule el promedio de la población y la desviación estándar de esto 50 municipios?."
   ]
  },
  {
   "cell_type": "code",
   "execution_count": 182,
   "metadata": {},
   "outputs": [
    {
     "ename": "KeyError",
     "evalue": "\"None of [Int64Index([292, 406, 218, 264, 552, 384, 171, 521, 295, 523,\\n            ...\\n            161, 625, 741, 802, 154, 534,  76, 844, 714, 850],\\n           dtype='int64', length=851)] are in the [columns]\"",
     "output_type": "error",
     "traceback": [
      "\u001b[0;31m---------------------------------------------------------------------------\u001b[0m",
      "\u001b[0;31mKeyError\u001b[0m                                  Traceback (most recent call last)",
      "\u001b[1;32m/Users/luisramilian/Documents/Data Science Master/Trimestre 1/Ciencia de Datos en Python/laboratorios/data-science-ug/lab-3/laboratorio-3.ipynb Cell 30\u001b[0m in \u001b[0;36m<cell line: 1>\u001b[0;34m()\u001b[0m\n\u001b[0;32m----> <a href='vscode-notebook-cell:/Users/luisramilian/Documents/Data%20Science%20Master/Trimestre%201/Ciencia%20de%20Datos%20en%20Python/laboratorios/data-science-ug/lab-3/laboratorio-3.ipynb#X54sZmlsZQ%3D%3D?line=0'>1</a>\u001b[0m dataset \u001b[39m=\u001b[39m data[np\u001b[39m.\u001b[39;49mrandom\u001b[39m.\u001b[39;49mchoice(\u001b[39mrange\u001b[39;49m(data\u001b[39m.\u001b[39;49mshape[\u001b[39m0\u001b[39;49m] \u001b[39m-\u001b[39;49m\u001b[39m1\u001b[39;49m ),size\u001b[39m=\u001b[39;49mdata\u001b[39m.\u001b[39;49mshape[\u001b[39m0\u001b[39;49m] \u001b[39m-\u001b[39;49m\u001b[39m1\u001b[39;49m,replace\u001b[39m=\u001b[39;49m\u001b[39mFalse\u001b[39;49;00m)]\n\u001b[1;32m      <a href='vscode-notebook-cell:/Users/luisramilian/Documents/Data%20Science%20Master/Trimestre%201/Ciencia%20de%20Datos%20en%20Python/laboratorios/data-science-ug/lab-3/laboratorio-3.ipynb#X54sZmlsZQ%3D%3D?line=1'>2</a>\u001b[0m dataset \u001b[39m=\u001b[39m dataset[:\u001b[39m50\u001b[39m]\n",
      "File \u001b[0;32m/Library/Frameworks/Python.framework/Versions/3.10/lib/python3.10/site-packages/pandas/core/frame.py:3511\u001b[0m, in \u001b[0;36mDataFrame.__getitem__\u001b[0;34m(self, key)\u001b[0m\n\u001b[1;32m   3509\u001b[0m     \u001b[39mif\u001b[39;00m is_iterator(key):\n\u001b[1;32m   3510\u001b[0m         key \u001b[39m=\u001b[39m \u001b[39mlist\u001b[39m(key)\n\u001b[0;32m-> 3511\u001b[0m     indexer \u001b[39m=\u001b[39m \u001b[39mself\u001b[39;49m\u001b[39m.\u001b[39;49mcolumns\u001b[39m.\u001b[39;49m_get_indexer_strict(key, \u001b[39m\"\u001b[39;49m\u001b[39mcolumns\u001b[39;49m\u001b[39m\"\u001b[39;49m)[\u001b[39m1\u001b[39m]\n\u001b[1;32m   3513\u001b[0m \u001b[39m# take() does not accept boolean indexers\u001b[39;00m\n\u001b[1;32m   3514\u001b[0m \u001b[39mif\u001b[39;00m \u001b[39mgetattr\u001b[39m(indexer, \u001b[39m\"\u001b[39m\u001b[39mdtype\u001b[39m\u001b[39m\"\u001b[39m, \u001b[39mNone\u001b[39;00m) \u001b[39m==\u001b[39m \u001b[39mbool\u001b[39m:\n",
      "File \u001b[0;32m/Library/Frameworks/Python.framework/Versions/3.10/lib/python3.10/site-packages/pandas/core/indexes/base.py:5782\u001b[0m, in \u001b[0;36mIndex._get_indexer_strict\u001b[0;34m(self, key, axis_name)\u001b[0m\n\u001b[1;32m   5779\u001b[0m \u001b[39melse\u001b[39;00m:\n\u001b[1;32m   5780\u001b[0m     keyarr, indexer, new_indexer \u001b[39m=\u001b[39m \u001b[39mself\u001b[39m\u001b[39m.\u001b[39m_reindex_non_unique(keyarr)\n\u001b[0;32m-> 5782\u001b[0m \u001b[39mself\u001b[39;49m\u001b[39m.\u001b[39;49m_raise_if_missing(keyarr, indexer, axis_name)\n\u001b[1;32m   5784\u001b[0m keyarr \u001b[39m=\u001b[39m \u001b[39mself\u001b[39m\u001b[39m.\u001b[39mtake(indexer)\n\u001b[1;32m   5785\u001b[0m \u001b[39mif\u001b[39;00m \u001b[39misinstance\u001b[39m(key, Index):\n\u001b[1;32m   5786\u001b[0m     \u001b[39m# GH 42790 - Preserve name from an Index\u001b[39;00m\n",
      "File \u001b[0;32m/Library/Frameworks/Python.framework/Versions/3.10/lib/python3.10/site-packages/pandas/core/indexes/base.py:5842\u001b[0m, in \u001b[0;36mIndex._raise_if_missing\u001b[0;34m(self, key, indexer, axis_name)\u001b[0m\n\u001b[1;32m   5840\u001b[0m     \u001b[39mif\u001b[39;00m use_interval_msg:\n\u001b[1;32m   5841\u001b[0m         key \u001b[39m=\u001b[39m \u001b[39mlist\u001b[39m(key)\n\u001b[0;32m-> 5842\u001b[0m     \u001b[39mraise\u001b[39;00m \u001b[39mKeyError\u001b[39;00m(\u001b[39mf\u001b[39m\u001b[39m\"\u001b[39m\u001b[39mNone of [\u001b[39m\u001b[39m{\u001b[39;00mkey\u001b[39m}\u001b[39;00m\u001b[39m] are in the [\u001b[39m\u001b[39m{\u001b[39;00maxis_name\u001b[39m}\u001b[39;00m\u001b[39m]\u001b[39m\u001b[39m\"\u001b[39m)\n\u001b[1;32m   5844\u001b[0m not_found \u001b[39m=\u001b[39m \u001b[39mlist\u001b[39m(ensure_index(key)[missing_mask\u001b[39m.\u001b[39mnonzero()[\u001b[39m0\u001b[39m]]\u001b[39m.\u001b[39munique())\n\u001b[1;32m   5845\u001b[0m \u001b[39mraise\u001b[39;00m \u001b[39mKeyError\u001b[39;00m(\u001b[39mf\u001b[39m\u001b[39m\"\u001b[39m\u001b[39m{\u001b[39;00mnot_found\u001b[39m}\u001b[39;00m\u001b[39m not in index\u001b[39m\u001b[39m\"\u001b[39m)\n",
      "\u001b[0;31mKeyError\u001b[0m: \"None of [Int64Index([292, 406, 218, 264, 552, 384, 171, 521, 295, 523,\\n            ...\\n            161, 625, 741, 802, 154, 534,  76, 844, 714, 850],\\n           dtype='int64', length=851)] are in the [columns]\""
     ]
    }
   ],
   "source": [
    "dataset = data[np.random.choice(range(data.shape[0] -1 ),size=data.shape[0] -1,replace=False)]\n",
    "dataset = dataset[:50]"
   ]
  },
  {
   "attachments": {},
   "cell_type": "markdown",
   "metadata": {},
   "source": []
  },
  {
   "attachments": {},
   "cell_type": "markdown",
   "metadata": {},
   "source": [
    "\n",
    "8. Dígame los nombres de los Municipios más cercano y más lejano a Madrid. Para ello debe calcular la distancia en todos ellos y Madrid. No considere a Madrid en el análisis ya que la distancia sería cero."
   ]
  },
  {
   "cell_type": "code",
   "execution_count": null,
   "metadata": {},
   "outputs": [],
   "source": []
  }
 ],
 "metadata": {
  "kernelspec": {
   "display_name": "Python 3",
   "language": "python",
   "name": "python3"
  },
  "language_info": {
   "codemirror_mode": {
    "name": "ipython",
    "version": 3
   },
   "file_extension": ".py",
   "mimetype": "text/x-python",
   "name": "python",
   "nbconvert_exporter": "python",
   "pygments_lexer": "ipython3",
   "version": "3.10.0"
  },
  "orig_nbformat": 4
 },
 "nbformat": 4,
 "nbformat_minor": 2
}
